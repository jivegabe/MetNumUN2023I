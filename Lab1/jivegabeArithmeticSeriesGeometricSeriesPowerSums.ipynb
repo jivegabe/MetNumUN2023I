{
  "nbformat": 4,
  "nbformat_minor": 0,
  "metadata": {
    "colab": {
      "provenance": []
    },
    "kernelspec": {
      "name": "python3",
      "display_name": "Python 3"
    }
  },
  "cells": [
    {
      "cell_type": "markdown",
      "source": [
        "**CC:1000855720**"
      ],
      "metadata": {
        "id": "pbVpa-WyUh7C"
      }
    },
    {
      "cell_type": "markdown",
      "metadata": {
        "id": "r4rXWI4gCN5B"
      },
      "source": [
        "# Arithmetic Series\n",
        "\n",
        "## Modified from Arithmetic Series -  [Wolfram MathWorld](https://mathworld.wolfram.com/ArithmeticSeries.html) - [wikipedia](https://en.wikipedia.org/wiki/Arithmetic_progression)\n",
        "\n",
        "\n",
        "An arithmetic sequence $\\{a_k\\}$ for $k=1, 2, ..., $ in which each term is computed from the previous one by adding (or subtracting) a constant $d$.\n",
        "\n",
        "\\begin{align*}\n",
        "a_1 & \\\\\n",
        "a_2 &\\ \\ =\\ \\ a_1 + d  \\\\\n",
        "a_3 &\\ \\ =\\ \\ a_2 + d \\ \\ =\\ \\ a_1 + 2d   \\\\\n",
        "a_4 &\\ \\ =\\ \\ a_3 + d \\ \\ =\\ \\ a_2 + 2d \\ \\ =\\ \\ a_1 + 3d  \\\\\n",
        "\\vdots\\\\\n",
        "a_k &\\ \\ =\\ \\ a_{(k-1)}+d \\ =\\  a_{(k-2)}+2d \\ =\\  \\ldots \\ =\\  \\ a_1+(k-1)d\n",
        "\\end{align*}\n",
        "\n",
        "Therefore, for $k>=1$,\n",
        "\n",
        "$$ a_k = a_1 + (k-1)d$$\n",
        "\n",
        "With $a_1$ and $d$ given.\n",
        "\n",
        "<br />\n",
        "\n",
        "The sequence of the partial sum of the first $n$ terms of a sequence is called a series, in the case of an arithemetic sequence the series is called an arithmetic series.\n",
        "\n",
        "If  $a_1= 1$ and $d=1$ we have, the simplest arithmnetic sequence,  the natural numbers sequence $\\{a_k = k \\}$ for  $k=1, 2, ..., $  i.e. the seuqnece\n",
        "$$1, 2, ...,$$\n",
        "The  corresponding series is\n",
        "$$\n",
        "S_n = 1 + 2+ \\ldots + (n-1)+ n = \\sum_{k=1}^n k\n",
        "$$\n",
        "can be calculated as a function of $n$.\n",
        "\n",
        "Assume that we allign one $S_{n-1}$ with a second  $S_{n-1}$ that have the terms adden reverse order and you add term to term, we have\n",
        "\\begin{array}{llclclclclc}\n",
        "  S_{n-1} &=& 1 &+& 2 &+& \\ldots &+& (n-2) &+& (n-1) \\\\\n",
        "  S_{n-1} &=& (n-1)  &+& (n-2)  &+& \\ldots   &+& 2   &+& 1 \\\\\n",
        "   \\hline \\\\\n",
        "   2S_{n-1} &=& n  &+& n  &+& \\ldots   &+& n   &+& n \\\\\n",
        "\\end{array}\n",
        "so\n",
        "$$  2S_{n-1} = (n-1)n $$\n",
        "then\n",
        "$$  S_{n-1} = \\frac{1}{2} (n-1)n$$\n",
        "therefore\n",
        "$$  S_{n} = \\frac{1}{2} n(n+1)$$\n",
        "\n",
        "\n",
        "\\begin{align*}\n",
        "S_n &= \\sum_{k=1}^n a_k\t\\\\\n",
        "    &= \\sum_{k=1}^n[a_1+(k-1)d]\t\t\\\\\n",
        "    &= na_1 + d \\sum_{k=1}^n(k-1)\t\\\\\n",
        "    &= na_1 + d \\sum_{k=0}^{n-1} k\t\\\\\n",
        "    &= na_1 + d \\sum_{k=1}^{n-1} k\t\\\\\n",
        "    &= na_1 +  \\frac{1}{2} d(n-1)n\\\\\n",
        "\\end{align*}\n",
        "so\n",
        "$$ S_n =  \\frac{1}{2} n[2 a_1 +d(n-1)].$$\n",
        "\n",
        "Note, however, that\n",
        "$$a_1+a_n=a_1+[a_1+d(n-1)]=2a_1+d(n-1),$$\n",
        "so\n",
        "$$S_n = \\frac{1}{2}n(a_1+a_n),$$\n",
        "\n",
        "\n",
        "or $n$ times the arithmetic mean of the first and last terms! This is the trick Gauss used as a schoolboy to solve the problem of summing the integers from $1$ to $100$ given as busy-work by his teacher. While his classmates toiled away doing the addition longhand, Gauss wrote a single number, the correct answer\n",
        "\n",
        "$$\\frac{1}{2}(100)(1+100)=50·101=5050$$\n",
        "on his slate (Burton 1989, pp. 80-81; Hoffman 1998, p. 207). When the answers were examined, Gauss's proved to be the only correct one.\n",
        "\n",
        "<br />\n",
        "\n",
        "If  the sequence starts at index $0$, $\\{a_k\\}$ for $ k=0, 1, 2, ..., $ we have\n",
        "\n",
        "\\begin{align*}\n",
        "a_0 & \\\\\n",
        "a_1 &\\ \\ =\\ \\ a_0 + d  \\\\\n",
        "a_2 &\\ \\ =\\ \\ a_1 + d \\ \\ =\\ \\ a_0 + 2d   \\\\\n",
        "a_3 &\\ \\ =\\ \\ a_2 + d \\ \\ =\\ \\ a_1 + 2d \\ \\ =\\ \\ a_0 + 3d  \\\\\n",
        "\\vdots\\\\\n",
        "a_k &\\ \\ =\\ \\ a_{(k-1)}+d \\ =\\  a_{(k-2)}+2d \\ =\\  \\ldots \\ = \\  \\ a_1+(k-1)d \\ \\ =\\ \\ a_0+kd\n",
        "\\end{align*}\n",
        "\n",
        "<br />\n",
        "for given   $a_0$ and $d$.\n",
        "\n",
        "In this case the sum of the terms between $0$ and $n$ of  the arithemnetic sequence  is then given by\n",
        "\\begin{align*}\n",
        "S_n &= \\sum_{k=0}^{n} a_k\t\\\\\n",
        "    &= \\sum_{k=0}^{n}[a_0+kd]\t\t\\\\\n",
        "    &= (n+1) a_0 + d \\sum_{k=0}^{n} k\t\\\\\n",
        "    &= (n+1) a_0 + d \\sum_{k=1}^{} k\t\\\\\n",
        "    &=(n+1) a_0+  \\frac{1}{2} dn(n+1) \\\\\n",
        "\\end{align*}\n",
        "so\n",
        "$$ S_n =  \\frac{1}{2} (n+1)[2 a_0 + dn].$$\n",
        "<br />\n",
        "$$ S_n =  \\frac{1}{2} (n+1)[a_0+ a_n].$$\n",
        "\n",
        "\n"
      ]
    },
    {
      "cell_type": "markdown",
      "metadata": {
        "id": "GfBh-QHRcods"
      },
      "source": [
        "### Code\n",
        "####  The simplest arithmetic sequence and series\n",
        "\n",
        "The simplest arithmnetic sequence is\n",
        "\n",
        "\n",
        "$$a_n = 1, 2, ...,$$"
      ]
    },
    {
      "cell_type": "markdown",
      "metadata": {
        "id": "n36eWqEXiktl"
      },
      "source": [
        "The following code plots the first $n = 15$ terms of the simplest arithmnetic sequence\n",
        "$$\\{a_n = n\\} \\text{ for } n =1,2,\\ldots  $$\n",
        "i.e\n",
        "$$\\{a_n = n\\} =1,2,\\ldots $$\n",
        "adn the corresponding terms of the simplest arithmnetic series\n",
        "$$  S_n = 1 + 2+ \\ldots + (n-1)+ n = \\sum_{k=1}^n k=  \\frac{1}{2} n(n+1)$$\n"
      ]
    },
    {
      "cell_type": "markdown",
      "metadata": {
        "id": "_VyGiunIZknK"
      },
      "source": [
        "Plot"
      ]
    },
    {
      "cell_type": "code",
      "metadata": {
        "colab": {
          "base_uri": "https://localhost:8080/",
          "height": 283
        },
        "id": "gx3Q4uo-ONCi",
        "outputId": "ace8323e-31ff-4467-c720-739b33b2557b"
      },
      "source": [
        "import matplotlib.pyplot as plt\n",
        "\n",
        "n = 15\n",
        "S_n = 0\n",
        "Serie_S_n=[]\n",
        "Sequence_a_n =[]\n",
        "for i in range(1,n+1):\n",
        "  S_n = S_n + i\n",
        "  Serie_S_n.append(S_n)\n",
        "  Sequence_a_n.append(i)\n",
        "\n",
        "\n",
        "plt.plot(Serie_S_n, color='black',label='Serie_S_n')\n",
        "plt.plot(Sequence_a_n, color='red',label='Sequence_a_n')\n",
        "plt.legend()\n",
        "\n",
        "\n"
      ],
      "execution_count": null,
      "outputs": [
        {
          "output_type": "execute_result",
          "data": {
            "text/plain": [
              "<matplotlib.legend.Legend at 0x7effd5d0dd50>"
            ]
          },
          "metadata": {},
          "execution_count": 5
        },
        {
          "output_type": "display_data",
          "data": {
            "image/png": "[encoded data removed]",
            "text/plain": [
              "<Figure size 432x288 with 1 Axes>"
            ]
          },
          "metadata": {
            "needs_background": "light"
          }
        }
      ]
    },
    {
      "cell_type": "code",
      "metadata": {
        "colab": {
          "base_uri": "https://localhost:8080/"
        },
        "id": "o2es6b4cysQk",
        "outputId": "2d8875c7-e4c1-49cc-9b38-028475c5f19f"
      },
      "source": [
        "Sequence_a_n"
      ],
      "execution_count": null,
      "outputs": [
        {
          "output_type": "execute_result",
          "data": {
            "text/plain": [
              "[1, 2, 3, 4, 5, 6, 7, 8, 9, 10, 11, 12, 13, 14, 15]"
            ]
          },
          "metadata": {
            "tags": []
          },
          "execution_count": 12
        }
      ]
    },
    {
      "cell_type": "code",
      "metadata": {
        "colab": {
          "base_uri": "https://localhost:8080/"
        },
        "id": "T2VeBOBZ0ibg",
        "outputId": "daaf6544-5edd-4843-a485-505e1a06a3f7"
      },
      "source": [
        "Serie_S_n"
      ],
      "execution_count": null,
      "outputs": [
        {
          "output_type": "execute_result",
          "data": {
            "text/plain": [
              "[1, 3, 6, 10, 15, 21, 28, 36, 45, 55, 66, 78, 91, 105, 120]"
            ]
          },
          "metadata": {
            "tags": []
          },
          "execution_count": 14
        }
      ]
    },
    {
      "cell_type": "markdown",
      "metadata": {
        "id": "0ybfJdHxZGvW"
      },
      "source": [
        "The following code computes the  $n=10000000$  term of the airthmetic series\n",
        "$$  S_n = 1 + 2+ \\ldots + (n-1)+ n = \\sum_{k=1}^n =  \\frac{1}{2} n(n+1)$$"
      ]
    },
    {
      "cell_type": "code",
      "metadata": {
        "colab": {
          "base_uri": "https://localhost:8080/"
        },
        "id": "99xYHDQycnol",
        "outputId": "a21e2f92-385a-4cea-910f-7e32bafd11e4"
      },
      "source": [
        "n = 10000000\n",
        "S_n = 0\n",
        "for i in range(1,n+1):  # range(n+1) goes form 1 to n\n",
        "  S_n = S_n + i\n",
        "print(S_n)"
      ],
      "execution_count": null,
      "outputs": [
        {
          "output_type": "stream",
          "text": [
            "50000005000000\n"
          ],
          "name": "stdout"
        }
      ]
    },
    {
      "cell_type": "code",
      "metadata": {
        "colab": {
          "base_uri": "https://localhost:8080/"
        },
        "id": "RGCSuDGHeFwH",
        "outputId": "e1d60652-ce77-4933-a4dc-fa178257f349"
      },
      "source": [
        "(1/2)*n*(n+1)"
      ],
      "execution_count": null,
      "outputs": [
        {
          "output_type": "execute_result",
          "data": {
            "text/plain": [
              "50000005000000.0"
            ]
          },
          "metadata": {
            "tags": []
          },
          "execution_count": 8
        }
      ]
    },
    {
      "cell_type": "markdown",
      "metadata": {
        "id": "bg8zxAhcecpk"
      },
      "source": [
        "The following code computes the $n=10000000$ term of the airthmetic series\n",
        "$$ S_n  = \\sum_{k=1}^n a_k$$\n",
        "\n",
        "<br />\n",
        "for the airthmetic sequence $a_k = 10 + 3 (k-1) $ for $k=1,2,\\ldots$\n",
        "\n",
        "<br />\n",
        "$$ 10,13,16,19,21,\\ldots$$\n"
      ]
    },
    {
      "cell_type": "markdown",
      "metadata": {
        "id": "hg3ixQ3bZiVh"
      },
      "source": [
        "Plot"
      ]
    },
    {
      "cell_type": "code",
      "metadata": {
        "colab": {
          "base_uri": "https://localhost:8080/"
        },
        "id": "w8FP1XqSgnie",
        "outputId": "4a81915d-b3b6-4089-cb05-5a46b03ba87f"
      },
      "source": [
        "n = 10000000\n",
        "a = 10\n",
        "d = 3\n",
        "S_n = 0\n",
        "for i in range(1,n+1):  # range(n+19 goes form 1 to n\n",
        "  a_n = a + d * (i-1)\n",
        "  S_n = S_n + a_n\n",
        "print(S_n)"
      ],
      "execution_count": null,
      "outputs": [
        {
          "output_type": "stream",
          "text": [
            "150000085000000\n"
          ],
          "name": "stdout"
        }
      ]
    },
    {
      "cell_type": "code",
      "metadata": {
        "colab": {
          "base_uri": "https://localhost:8080/"
        },
        "id": "g_38RfB_hgg2",
        "outputId": "088f349a-3f72-4e5d-b977-30b61ddcbb25"
      },
      "source": [
        "n*(2*a +d*(n-1))/2"
      ],
      "execution_count": null,
      "outputs": [
        {
          "output_type": "execute_result",
          "data": {
            "text/plain": [
              "150000085000000.0"
            ]
          },
          "metadata": {
            "tags": []
          },
          "execution_count": 25
        }
      ]
    },
    {
      "cell_type": "code",
      "metadata": {
        "colab": {
          "base_uri": "https://localhost:8080/"
        },
        "id": "zS3qb_xE1u58",
        "outputId": "3a90e3cb-788b-49cc-db02-6b53b4d092d9"
      },
      "source": [
        "n*(a +a_n)/2"
      ],
      "execution_count": null,
      "outputs": [
        {
          "output_type": "execute_result",
          "data": {
            "text/plain": [
              "150000085000000.0"
            ]
          },
          "metadata": {
            "tags": []
          },
          "execution_count": 26
        }
      ]
    },
    {
      "cell_type": "code",
      "metadata": {
        "colab": {
          "base_uri": "https://localhost:8080/",
          "height": 285
        },
        "id": "7qesKez70zub",
        "outputId": "cd0c0a7a-936e-417d-8653-5aa6c817d4c1"
      },
      "source": [
        "import matplotlib.pyplot as plt\n",
        "\n",
        "n = 20\n",
        "a = 10\n",
        "d = 3\n",
        "S_n = 0\n",
        "Serie_S_n=[]\n",
        "Sequence_a_n =[]\n",
        "for i in range(1,n+1):  # range(n+19 goes form 1 to n\n",
        "  a_n = a + d * (i-1)\n",
        "  S_n = S_n + a_n\n",
        "  Serie_S_n.append(S_n)\n",
        "  Sequence_a_n.append(a_n)\n",
        "\n",
        "plt.plot(Serie_S_n, color='black',label='Serie_S_n')\n",
        "plt.plot(Sequence_a_n, color='red',label='Sequence_a_n')\n",
        "plt.legend()"
      ],
      "execution_count": null,
      "outputs": [
        {
          "output_type": "execute_result",
          "data": {
            "text/plain": [
              "<matplotlib.legend.Legend at 0x7f4135d81d10>"
            ]
          },
          "metadata": {
            "tags": []
          },
          "execution_count": 22
        },
        {
          "output_type": "display_data",
          "data": {
            "image/png": "[encoded data removed]",
            "text/plain": [
              "<Figure size 432x288 with 1 Axes>"
            ]
          },
          "metadata": {
            "tags": [],
            "needs_background": "light"
          }
        }
      ]
    },
    {
      "cell_type": "markdown",
      "metadata": {
        "id": "r9qzONSlZq2q"
      },
      "source": [
        "## Your own example of arithmetic series"
      ]
    },
    {
      "cell_type": "markdown",
      "metadata": {
        "id": "N-TxF1qxc-nk"
      },
      "source": []
    },
    {
      "cell_type": "code",
      "metadata": {
        "id": "SrJ_dPxS0pwP"
      },
      "source": [],
      "execution_count": null,
      "outputs": []
    },
    {
      "cell_type": "markdown",
      "metadata": {
        "id": "AKWJ1F7hac8T"
      },
      "source": [
        "# Geometric Series\n",
        "\n",
        "## Modified from Geometric Series -  [Wolfram MathWorld](https://mathworld.wolfram.com/GeometricSeries.html) - [wikipedia](https://en.wikipedia.org/wiki/Geometric_series)\n"
      ]
    },
    {
      "cell_type": "markdown",
      "metadata": {
        "id": "W5zx_-nR81GI"
      },
      "source": [
        "An geometric series is the sum of a sequence $\\{a_k\\}$ for $k=1, 2, ..., $ in which each term is computed from the previous  by multipliying constant $r$ and starts with 1.\n",
        "\n",
        "\\begin{align*}\n",
        "a_0 &\\ \\ =\\ \\ r^0 \\ \\ =\\ \\ 1\\\\\n",
        "a_1 &\\ \\ =\\ \\ a_0 *  r \\ \\ =\\ \\  r\\\\\n",
        "a_2 &\\ \\ =\\ \\ a_1 * r\\ \\ =\\ \\ a_0 * r^2  \\ \\ =\\ \\ r^2 \\\\\n",
        "a_3 &\\ \\ =\\ \\ a_2 * r \\ \\ =\\ \\ a_0 * r^3 \\ \\ =\\ \\  r^3  \\\\\n",
        "a_4 &\\ \\ =\\ \\ a_3 * r\\ \\  =\\ \\ a_0 * r^4 \\ \\  =\\ \\ r^4  \\\\\n",
        "\\vdots\\\\\n",
        "a_k &\\ \\ =\\ \\ a_{(k-1)}* r \\ =\\   a_0 * r^k \\ \\  =\\ \\  r^k\n",
        "\\end{align*}\n",
        "\n",
        "The sum of the first $n$ terms  of  the geometric sequence (called an geometric serie)  is then given by\n",
        "$$\n",
        "\\begin{array}{ll}\n",
        "S_n &=  1 + r + r^2 + \\cdots + r^{n-1} +r^n \\\\\n",
        " &=  (1 + r + r^2 + \\cdots + r^{n-1} ) +r^n \\\\\n",
        " &= S_{n-1}  +r^n\n",
        "\\end{array}\n",
        "$$\n",
        "\n",
        "$$\n",
        "\\begin{array}{ll}\n",
        "S_n &=  1 + r + r^2 + \\cdots + r^{n-1} +r^n \\\\\n",
        " &=  1 + (r + r^2 + \\cdots + r^{n-1}  +r^n)  \\\\\n",
        " &=   1 + r (1 +  r  + r^2 + \\cdots + r^{n-1} )  \\\\\n",
        "  &=   1 + r   S_{n-1}\n",
        "\\end{array}\n",
        "$$\n",
        "\n",
        "Then\n",
        "$$\n",
        " S_{n-1}  +r^n =   1 + r   S_{n-1}\n",
        "$$\n",
        "\n",
        "Therefore\n",
        "$$\n",
        " S_{n-1} (1 -r)   +r^n =   1 - r^n\n",
        "$$\n",
        "\n",
        "$$\n",
        " S_{n-1}   =   \\frac{1 - r^n }{1 -r}\n",
        "$$\n",
        "\n",
        "$$\n",
        " S_{n}   =   \\frac{1 - r^{n+1} }{1 -r}  = \\frac{ r^{n+1} - 1}{r -1}\n",
        "$$\n"
      ]
    },
    {
      "cell_type": "markdown",
      "metadata": {
        "id": "CDUYfT8k8crr"
      },
      "source": [
        "## Nodes in Complete Binary Tree with $L=0,1,2,\\cdots , L-1$ levels\n",
        "\n",
        "![](https://raw.githubusercontent.com/gjhernandezp/algorithms/master/Lab7/ComBinTree.png)\n",
        "\n",
        "In a complete binary tree you have in ecah level $k =0,1,2,\\cdots $  $ 2^k $\n",
        "\n",
        "$$\n",
        "\\begin{array}{ll}\n",
        "\\text {Level } 0 \\rightarrow 2^0 = 1 \\text { node (root)} \\\\\n",
        "\\text {Level } 1 \\rightarrow 2^1 = 2 \\text { nodes} \\\\\n",
        "\\text {Level } 2 \\rightarrow 2^2 = 4 \\text { nodes} \\\\\n",
        "\\text {Level } 3 \\rightarrow 2^3 = 8 \\text { nodes} \\\\\n",
        "\\vdots\\\\\n",
        "\\text {Level } k \\rightarrow 2^k  \\text { nodes} \\\\\n",
        "\\end{array}\n",
        "$$\n",
        "\n",
        "nodes, with $l = 0,1,2, ... $ the level\n",
        "\n",
        "Total number of the complte tree with $L=0,1,2,\\cdots , L-1$ levels\n",
        "\n",
        "$$\n",
        "2^0 + 2^1 + 2^2 + \\cdots +2^{L-1}  = 1 + 2 + 4 + \\cdots +2^{L-1} = \\sum_{k=0}^{L-1} 2^k = \\frac{ 2^{L} - 1}{2 -1} = 2^{L} - 1\n",
        "$$"
      ]
    },
    {
      "cell_type": "markdown",
      "metadata": {
        "id": "YiWlrhLZNMX9"
      },
      "source": [
        "### Code\n",
        "\n",
        "Sum a geometric with $r =2$ and other $r > 1 \\neq 2$  series up to 10** 6 and verify with the formula\n",
        "\n",
        "Plot the firts 20 terms and the partial sums"
      ]
    },
    {
      "cell_type": "markdown",
      "source": [
        "**My own example Geometric series #1**"
      ],
      "metadata": {
        "id": "S1CSFiChDwD6"
      }
    },
    {
      "cell_type": "code",
      "metadata": {
        "id": "YvMkYU8UNOll",
        "colab": {
          "base_uri": "https://localhost:8080/",
          "height": 463
        },
        "outputId": "5a25866e-ae13-4d7b-c601-68c06cb7ac2b"
      },
      "source": [
        "import matplotlib.pyplot as plt\n",
        "sum = 0\n",
        "r=2\n",
        "series=[]\n",
        "sumSeries=[]\n",
        "for i in range (500):\n",
        "  sum = sum + r**i\n",
        "  series.append(r**i)\n",
        "  sumSeries.append(sum)\n",
        "\n",
        "plt.plot(series, color='black',label='Series')\n",
        "plt.plot(sumSeries, color='red',label='Sum Series')\n",
        "plt.legend()\n",
        "print(sum)"
      ],
      "execution_count": 16,
      "outputs": [
        {
          "output_type": "stream",
          "name": "stdout",
          "text": [
            "3273390607896141870013189696827599152216642046043064789483291368096133796404674554883270092325904157150886684127560071009217256545885393053328527589375\n"
          ]
        },
        {
          "output_type": "display_data",
          "data": {
            "text/plain": [
              "<Figure size 640x480 with 1 Axes>"
            ],
            "image/png": "[encoded data removed]"
          },
          "metadata": {}
        }
      ]
    },
    {
      "cell_type": "markdown",
      "source": [
        "![imagen.png](data:image/png;base64,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)"
      ],
      "metadata": {
        "id": "OYgdx7NGHfFv"
      }
    },
    {
      "cell_type": "markdown",
      "metadata": {
        "id": "Dd3RWDwJe2xD"
      },
      "source": [
        "## Zenon Arrow\n",
        "\n",
        "![](https://raw.githubusercontent.com/gjhernandezp/algorithms/master/Lab7/zeno-paradox-arrow.png)\n",
        "\n",
        "Achilles and the tortoise - https://en.wikipedia.org/wiki/Zeno%27s_paradoxes\n",
        "\n",
        "\n",
        "\n",
        "$$\n",
        "\\lim_{n\\rightarrow \\infty} \\left\\{\\left(\\frac{1}{2}\\right)^0 + \\left(\\frac{1}{2}\\right)^1 +\\left(\\frac{1}{2}\\right)^2 + \\cdots +\\left(\\frac{1}{2}\\right)^{n} \\right\\} = \\lim_{n\\rightarrow \\infty} \\left\\{ 1 +\\frac{1}{2} + \\frac{1}{4} + \\frac{1}{8} + \\cdots +\\frac{1}{2^{n}}\\right\\}  = \\lim_{n\\rightarrow \\infty} \\sum_{k=0}^{n} \\left(\\frac{1}{2}\\right)^k = \\lim_{n\\rightarrow \\infty} \\frac{ 1- \\left(\\frac{1}{2}\\right)^n  }{1 - \\left(\\frac{1}{2}\\right) } = \\frac{ 1}{1 - \\left(\\frac{1}{2}\\right)} = 2\n",
        "$$"
      ]
    },
    {
      "cell_type": "markdown",
      "metadata": {
        "id": "R-J4EekBNPkd"
      },
      "source": [
        "### Code\n",
        "\n",
        "Sum a geometric with  $r=\\frac{1}{2}$ other $r < 1 \\neq \\frac{1}{2}$ series up to  $n = 60$ and verify with the formula\n",
        "\n",
        "Plot the firts 60 terms and the partial sums"
      ]
    },
    {
      "cell_type": "markdown",
      "source": [
        "**My own example Geometric series #2**"
      ],
      "metadata": {
        "id": "dYcmJtC6Hrd2"
      }
    },
    {
      "cell_type": "code",
      "metadata": {
        "colab": {
          "base_uri": "https://localhost:8080/",
          "height": 448
        },
        "outputId": "a167b357-280e-45a4-b7f4-c0b9f086ac2a",
        "id": "8lfZsQtnHv30"
      },
      "source": [
        "import matplotlib.pyplot as plt\n",
        "sum = 0\n",
        "r=0.5\n",
        "series=[]\n",
        "sumSeries=[]\n",
        "for i in range (500):\n",
        "  sum = sum + r**i\n",
        "  series.append(r**i)\n",
        "  sumSeries.append(sum)\n",
        "\n",
        "plt.plot(series, color='black',label='Series')\n",
        "plt.plot(sumSeries, color='red',label='Sum Series')\n",
        "plt.legend()\n",
        "\n",
        "print(sum)"
      ],
      "execution_count": null,
      "outputs": [
        {
          "output_type": "stream",
          "name": "stdout",
          "text": [
            "2.0\n"
          ]
        },
        {
          "output_type": "display_data",
          "data": {
            "text/plain": [
              "<Figure size 640x480 with 1 Axes>"
            ],
            "image/png": "[encoded data removed]"
          },
          "metadata": {}
        }
      ]
    },
    {
      "cell_type": "markdown",
      "source": [
        "![imagen.png](data:image/png;base64,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)"
      ],
      "metadata": {
        "id": "haziB5GgIXd4"
      }
    },
    {
      "cell_type": "markdown",
      "metadata": {
        "id": "dh2ntBeoNQlN"
      },
      "source": [
        "# Power Sums Power Sums - [Wolfram MathWorld](https://mathworld.wolfram.com/PowerSum.html) - [wikipedia](https://en.wikipedia.org/wiki/Sums_of_powers) - [reserachgate](https://www.researchgate.net/publication/331933608_The_Powers_Sums_Bernoulli_Numbers_Bernoulli_Polynomials_Rethinked)\n",
        "\n"
      ]
    },
    {
      "cell_type": "markdown",
      "source": [
        "Code\n",
        "p = last digit + 1\n",
        "\n",
        "Sum $1^p+2^p+\\cdots + n^p$  series up to  $n=10^6$  and verify with the formula\n",
        "\n",
        "Plot the firts 20 terms and the partial sums"
      ],
      "metadata": {
        "id": "kSYU0kwMCBXB"
      }
    },
    {
      "cell_type": "markdown",
      "source": [
        "**My own example Power Sums #1**"
      ],
      "metadata": {
        "id": "pgUuhvfoOE_3"
      }
    },
    {
      "cell_type": "code",
      "metadata": {
        "id": "2PyxzzOZVIdl",
        "colab": {
          "base_uri": "https://localhost:8080/",
          "height": 466
        },
        "outputId": "0954d3ba-277d-45af-f6a0-0730fd7925d0"
      },
      "source": [
        "import matplotlib.pyplot as plt\n",
        "series=[]\n",
        "sumSeries=[]\n",
        "p=1\n",
        "sum=0\n",
        "for i in range(1000000):\n",
        "  sum = sum + i**p\n",
        "  if (i<=20):\n",
        "    series.append(i**p)\n",
        "    sumSeries.append(sum)\n",
        "\n",
        "plt.plot(series, color='black',label='Series')\n",
        "plt.plot(sumSeries, color='red',label='Sum Series')\n",
        "plt.legend()\n",
        "print(sum)"
      ],
      "execution_count": 24,
      "outputs": [
        {
          "output_type": "stream",
          "name": "stdout",
          "text": [
            "499999500000\n",
            "499999500000\n"
          ]
        },
        {
          "output_type": "display_data",
          "data": {
            "text/plain": [
              "<Figure size 640x480 with 1 Axes>"
            ],
            "image/png": "[encoded data removed]"
          },
          "metadata": {}
        }
      ]
    },
    {
      "cell_type": "markdown",
      "source": [
        "As in this case the identity document last digit is 0, then p = 1, so this is just the typical: 1 + 2 + 3 + 4 ... + n, so the analitic solution is the following:"
      ],
      "metadata": {
        "id": "xWRbnH96UbDS"
      }
    },
    {
      "cell_type": "markdown",
      "source": [
        "![imagen.png](data:image/png;base64,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)"
      ],
      "metadata": {
        "id": "8UFW6inNVNFB"
      }
    },
    {
      "cell_type": "markdown",
      "source": [
        "**My own example Power Sums #2**"
      ],
      "metadata": {
        "id": "jgz1pcGoVlxm"
      }
    },
    {
      "cell_type": "code",
      "metadata": {
        "colab": {
          "base_uri": "https://localhost:8080/",
          "height": 452
        },
        "outputId": "0c2e2c37-70eb-4a14-a9ef-1a17bf1f1783",
        "id": "ezURaeCEVjt2"
      },
      "source": [
        "import matplotlib.pyplot as plt\n",
        "series=[]\n",
        "sumSeries=[]\n",
        "p=2\n",
        "sum=0\n",
        "for i in range(1000001):\n",
        "  sum = sum + i**p\n",
        "  if (i<=20):\n",
        "    series.append(i**p)\n",
        "    sumSeries.append(sum)\n",
        "\n",
        "plt.plot(series, color='black',label='Series')\n",
        "plt.plot(sumSeries, color='red',label='Sum Series')\n",
        "plt.legend()\n",
        "print(sum)"
      ],
      "execution_count": 25,
      "outputs": [
        {
          "output_type": "stream",
          "name": "stdout",
          "text": [
            "333333833333500000\n"
          ]
        },
        {
          "output_type": "display_data",
          "data": {
            "text/plain": [
              "<Figure size 640x480 with 1 Axes>"
            ],
            "image/png": "[encoded data removed]"
          },
          "metadata": {}
        }
      ]
    },
    {
      "cell_type": "markdown",
      "source": [
        "![imagen.png](data:image/png;base64,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)"
      ],
      "metadata": {
        "id": "yiHAETNuWeuE"
      }
    }
  ]
}